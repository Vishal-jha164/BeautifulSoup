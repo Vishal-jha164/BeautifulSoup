{
 "cells": [
  {
   "cell_type": "code",
   "execution_count": 2,
   "id": "98cc42ef",
   "metadata": {},
   "outputs": [],
   "source": [
    "html='<!DOCTYPE html>\\\n",
    "<html>\\\n",
    "<head>\\\n",
    "<title>\\\n",
    "testing web page\\\n",
    "\t</title>\\\n",
    "</head>\\\n",
    "<body>\\\n",
    "\t<h1>web scriping</h1>\\\n",
    "\t<p class=\"abc\" id=\"first_para\">\\\n",
    "\t\tlets start learning\\\n",
    "\t\t<b>web scraping</b>\\\n",
    "\t</p>\\\n",
    "\t<p id=\"def\">\\\n",
    "\t\tyou can read more about beautifulsoup from <a href=\"https://www.crummy.com/software/Beautifulsoup/bs4/doc/\">here</a>\\\n",
    "\t</p>\\\n",
    "\t<p class=\"abc\">\\\n",
    "\t<p><a href =\"https://codingninjas.in\">coding ninjas</a></p>\\\n",
    "</p>\\\n",
    "</body>\\\n",
    "</html>'"
   ]
  },
  {
   "cell_type": "code",
   "execution_count": 4,
   "id": "e55f3b0e",
   "metadata": {},
   "outputs": [],
   "source": [
    "from bs4 import BeautifulSoup"
   ]
  },
  {
   "cell_type": "code",
   "execution_count": 5,
   "id": "119e5a5c",
   "metadata": {},
   "outputs": [
    {
     "data": {
      "text/plain": [
       "<!DOCTYPE html>\n",
       "<html><head><title>testing web page\t</title></head><body> <h1>web scriping</h1> <p class=\"abc\" id=\"first_para\">\t\tlets start learning\t\t<b>web scraping</b> </p> <p id=\"def\">\t\tyou can read more about beautifulsoup from <a href=\"https://www.crummy.com/software/Beautifulsoup/bs4/doc/\">here</a> </p> <p class=\"abc\"> <p><a href=\"https://codingninjas.in\">coding ninjas</a></p></p></body></html>"
      ]
     },
     "execution_count": 5,
     "metadata": {},
     "output_type": "execute_result"
    }
   ],
   "source": [
    "data = BeautifulSoup(html,'html.parser')\n",
    "data"
   ]
  },
  {
   "cell_type": "code",
   "execution_count": 6,
   "id": "d8338f19",
   "metadata": {},
   "outputs": [
    {
     "data": {
      "text/plain": [
       "bs4.BeautifulSoup"
      ]
     },
     "execution_count": 6,
     "metadata": {},
     "output_type": "execute_result"
    }
   ],
   "source": [
    "type(data)"
   ]
  },
  {
   "cell_type": "code",
   "execution_count": 7,
   "id": "65c9da67",
   "metadata": {},
   "outputs": [
    {
     "name": "stdout",
     "output_type": "stream",
     "text": [
      "<!DOCTYPE html>\n",
      "<html>\n",
      " <head>\n",
      "  <title>\n",
      "   testing web page\n",
      "  </title>\n",
      " </head>\n",
      " <body>\n",
      "  <h1>\n",
      "   web scriping\n",
      "  </h1>\n",
      "  <p class=\"abc\" id=\"first_para\">\n",
      "   lets start learning\n",
      "   <b>\n",
      "    web scraping\n",
      "   </b>\n",
      "  </p>\n",
      "  <p id=\"def\">\n",
      "   you can read more about beautifulsoup from\n",
      "   <a href=\"https://www.crummy.com/software/Beautifulsoup/bs4/doc/\">\n",
      "    here\n",
      "   </a>\n",
      "  </p>\n",
      "  <p class=\"abc\">\n",
      "   <p>\n",
      "    <a href=\"https://codingninjas.in\">\n",
      "     coding ninjas\n",
      "    </a>\n",
      "   </p>\n",
      "  </p>\n",
      " </body>\n",
      "</html>\n"
     ]
    }
   ],
   "source": [
    "print(data.prettify())"
   ]
  },
  {
   "cell_type": "code",
   "execution_count": 9,
   "id": "116dce9b",
   "metadata": {},
   "outputs": [
    {
     "data": {
      "text/plain": [
       "<title>testing web page\t</title>"
      ]
     },
     "execution_count": 9,
     "metadata": {},
     "output_type": "execute_result"
    }
   ],
   "source": [
    "data.title"
   ]
  },
  {
   "cell_type": "code",
   "execution_count": 10,
   "id": "557b3eef",
   "metadata": {},
   "outputs": [
    {
     "data": {
      "text/plain": [
       "<head><title>testing web page\t</title></head>"
      ]
     },
     "execution_count": 10,
     "metadata": {},
     "output_type": "execute_result"
    }
   ],
   "source": [
    "data.head"
   ]
  },
  {
   "cell_type": "code",
   "execution_count": 11,
   "id": "ae60a328",
   "metadata": {},
   "outputs": [
    {
     "data": {
      "text/plain": [
       "<h1>web scriping</h1>"
      ]
     },
     "execution_count": 11,
     "metadata": {},
     "output_type": "execute_result"
    }
   ],
   "source": [
    "data.h1"
   ]
  },
  {
   "cell_type": "code",
   "execution_count": 12,
   "id": "8539fa5c",
   "metadata": {},
   "outputs": [
    {
     "data": {
      "text/plain": [
       "<p class=\"abc\" id=\"first_para\">\t\tlets start learning\t\t<b>web scraping</b> </p>"
      ]
     },
     "execution_count": 12,
     "metadata": {},
     "output_type": "execute_result"
    }
   ],
   "source": [
    "data.p"
   ]
  },
  {
   "cell_type": "code",
   "execution_count": 13,
   "id": "da84fe50",
   "metadata": {},
   "outputs": [],
   "source": [
    "data.h2"
   ]
  },
  {
   "cell_type": "code",
   "execution_count": 15,
   "id": "2968c826",
   "metadata": {},
   "outputs": [
    {
     "name": "stdout",
     "output_type": "stream",
     "text": [
      "title\n"
     ]
    }
   ],
   "source": [
    "print(data.title.name)"
   ]
  },
  {
   "cell_type": "code",
   "execution_count": 17,
   "id": "092cf22b",
   "metadata": {},
   "outputs": [
    {
     "name": "stdout",
     "output_type": "stream",
     "text": [
      "{}\n"
     ]
    }
   ],
   "source": [
    "print(data.title.attrs)"
   ]
  },
  {
   "cell_type": "code",
   "execution_count": 18,
   "id": "68b1ac06",
   "metadata": {},
   "outputs": [
    {
     "data": {
      "text/plain": [
       "{'class': ['abc'], 'id': 'first_para'}"
      ]
     },
     "execution_count": 18,
     "metadata": {},
     "output_type": "execute_result"
    }
   ],
   "source": [
    "data.p.attrs"
   ]
  },
  {
   "cell_type": "code",
   "execution_count": 19,
   "id": "375fe752",
   "metadata": {},
   "outputs": [
    {
     "data": {
      "text/plain": [
       "'first_para'"
      ]
     },
     "execution_count": 19,
     "metadata": {},
     "output_type": "execute_result"
    }
   ],
   "source": [
    "data.p['id']"
   ]
  },
  {
   "cell_type": "code",
   "execution_count": 20,
   "id": "a8381df5",
   "metadata": {},
   "outputs": [
    {
     "data": {
      "text/plain": [
       "'first_para'"
      ]
     },
     "execution_count": 20,
     "metadata": {},
     "output_type": "execute_result"
    }
   ],
   "source": [
    "data.p.get('id')"
   ]
  },
  {
   "cell_type": "code",
   "execution_count": 21,
   "id": "1979171c",
   "metadata": {},
   "outputs": [
    {
     "data": {
      "text/plain": [
       "['abc']"
      ]
     },
     "execution_count": 21,
     "metadata": {},
     "output_type": "execute_result"
    }
   ],
   "source": [
    "data.p['class']"
   ]
  },
  {
   "cell_type": "code",
   "execution_count": 22,
   "id": "e02322ca",
   "metadata": {},
   "outputs": [
    {
     "data": {
      "text/plain": [
       "'testing web page\\t web scriping \\t\\tlets start learning\\t\\tweb scraping  \\t\\tyou can read more about beautifulsoup from here   coding ninjas'"
      ]
     },
     "execution_count": 22,
     "metadata": {},
     "output_type": "execute_result"
    }
   ],
   "source": [
    "data.get_text()"
   ]
  },
  {
   "cell_type": "code",
   "execution_count": 23,
   "id": "268ec4df",
   "metadata": {},
   "outputs": [
    {
     "data": {
      "text/plain": [
       "<p class=\"abc\" id=\"first_para\">\t\tlets start learning\t\t<b>web scraping</b> </p>"
      ]
     },
     "execution_count": 23,
     "metadata": {},
     "output_type": "execute_result"
    }
   ],
   "source": [
    "data.find('p')"
   ]
  },
  {
   "cell_type": "code",
   "execution_count": 24,
   "id": "35ea92f1",
   "metadata": {},
   "outputs": [],
   "source": [
    "data.find('pr')"
   ]
  },
  {
   "cell_type": "code",
   "execution_count": 25,
   "id": "957f3c45",
   "metadata": {},
   "outputs": [
    {
     "data": {
      "text/plain": [
       "<h1>web scriping</h1>"
      ]
     },
     "execution_count": 25,
     "metadata": {},
     "output_type": "execute_result"
    }
   ],
   "source": [
    "data.find('h1')"
   ]
  },
  {
   "cell_type": "code",
   "execution_count": 27,
   "id": "467f9a89",
   "metadata": {},
   "outputs": [
    {
     "name": "stdout",
     "output_type": "stream",
     "text": [
      "<p class=\"abc\" id=\"first_para\">\t\tlets start learning\t\t<b>web scraping</b> </p>\n",
      "<p id=\"def\">\t\tyou can read more about beautifulsoup from <a href=\"https://www.crummy.com/software/Beautifulsoup/bs4/doc/\">here</a> </p>\n",
      "<p class=\"abc\"> <p><a href=\"https://codingninjas.in\">coding ninjas</a></p></p>\n",
      "<p><a href=\"https://codingninjas.in\">coding ninjas</a></p>\n"
     ]
    }
   ],
   "source": [
    "li = data.find_all('p')\n",
    "for i in li:\n",
    "    print(i)"
   ]
  },
  {
   "cell_type": "code",
   "execution_count": null,
   "id": "34258b45",
   "metadata": {},
   "outputs": [],
   "source": []
  },
  {
   "cell_type": "code",
   "execution_count": null,
   "id": "e48f800e",
   "metadata": {},
   "outputs": [],
   "source": []
  },
  {
   "cell_type": "code",
   "execution_count": null,
   "id": "c0b05c84",
   "metadata": {},
   "outputs": [],
   "source": []
  },
  {
   "cell_type": "code",
   "execution_count": null,
   "id": "c6c27a69",
   "metadata": {},
   "outputs": [],
   "source": []
  },
  {
   "cell_type": "code",
   "execution_count": null,
   "id": "80eefdcc",
   "metadata": {},
   "outputs": [],
   "source": []
  },
  {
   "cell_type": "code",
   "execution_count": null,
   "id": "5ba554a3",
   "metadata": {},
   "outputs": [],
   "source": []
  },
  {
   "cell_type": "code",
   "execution_count": null,
   "id": "d01b874d",
   "metadata": {},
   "outputs": [],
   "source": []
  }
 ],
 "metadata": {
  "kernelspec": {
   "display_name": "Python 3",
   "language": "python",
   "name": "python3"
  },
  "language_info": {
   "codemirror_mode": {
    "name": "ipython",
    "version": 3
   },
   "file_extension": ".py",
   "mimetype": "text/x-python",
   "name": "python",
   "nbconvert_exporter": "python",
   "pygments_lexer": "ipython3",
   "version": "3.8.8"
  }
 },
 "nbformat": 4,
 "nbformat_minor": 5
}
